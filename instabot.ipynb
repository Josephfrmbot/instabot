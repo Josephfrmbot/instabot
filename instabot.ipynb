{
 "cells": [
  {
   "cell_type": "markdown",
   "id": "7f312715",
   "metadata": {},
   "source": [
    "# Import library"
   ]
  },
  {
   "cell_type": "code",
   "execution_count": 4,
   "id": "693bbfc9",
   "metadata": {},
   "outputs": [],
   "source": [
    "from instagrapi import Client"
   ]
  },
  {
   "cell_type": "code",
   "execution_count": null,
   "id": "5fcff88d",
   "metadata": {},
   "outputs": [],
   "source": [
    "\n",
    "# variables\n",
    "\n",
    "username = josephmbota1@gmail.com\n",
    "password= Josephfr88@\n",
    "\n",
    "#Login\n",
    "\n",
    "Client= Client()\n",
    "client.login(username, password)\n",
    "\n",
    "# Hashtag\n",
    "hashtag =\"nappy\"\n",
    "medias = client.hashtag_medias_recent(hashtag, )"
   ]
  }
 ],
 "metadata": {
  "kernelspec": {
   "display_name": "Python 3 (ipykernel)",
   "language": "python",
   "name": "python3"
  },
  "language_info": {
   "codemirror_mode": {
    "name": "ipython",
    "version": 3
   },
   "file_extension": ".py",
   "mimetype": "text/x-python",
   "name": "python",
   "nbconvert_exporter": "python",
   "pygments_lexer": "ipython3",
   "version": "3.9.13"
  }
 },
 "nbformat": 4,
 "nbformat_minor": 5
}
